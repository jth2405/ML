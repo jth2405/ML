{
 "cells": [
  {
   "cell_type": "code",
   "execution_count": 1,
   "id": "6a769364",
   "metadata": {},
   "outputs": [],
   "source": [
    "# Python ≥3.5 is required\n",
    "import sys\n",
    "assert sys.version_info >= (3, 5)\n",
    "\n",
    "# Scikit-Learn ≥0.20 is required\n",
    "import sklearn\n",
    "assert sklearn.__version__ >= \"0.20\"\n",
    "\n",
    "# Common imports\n",
    "import numpy as np\n",
    "import os\n",
    "\n",
    "# to make this notebook's output stable across runs\n",
    "np.random.seed(42)\n",
    "\n",
    "# To plot pretty figures\n",
    "%matplotlib inline\n",
    "import matplotlib as mpl\n",
    "import matplotlib.pyplot as plt\n",
    "mpl.rc('axes', labelsize=14)\n",
    "mpl.rc('xtick', labelsize=12)\n",
    "mpl.rc('ytick', labelsize=12)\n",
    "\n",
    "# Where to save the figures\n",
    "PROJECT_ROOT_DIR = \".\"\n",
    "CHAPTER_ID = \"ensembles\"\n",
    "IMAGES_PATH = os.path.join(PROJECT_ROOT_DIR, \"images\", CHAPTER_ID)\n",
    "os.makedirs(IMAGES_PATH, exist_ok=True)\n",
    "\n",
    "def save_fig(fig_id, tight_layout=True, fig_extension=\"png\", resolution=300):\n",
    "    path = os.path.join(IMAGES_PATH, fig_id + \".\" + fig_extension)\n",
    "    print(\"Saving figure\", fig_id)\n",
    "    if tight_layout:\n",
    "        plt.tight_layout()\n",
    "    plt.savefig(path, format=fig_extension, dpi=resolution)"
   ]
  },
  {
   "cell_type": "code",
   "execution_count": 2,
   "id": "884eb5b2",
   "metadata": {},
   "outputs": [],
   "source": [
    "from sklearn.datasets import fetch_openml\n",
    "\n",
    "mnist = fetch_openml('mnist_784', version=1)\n",
    "mnist.target = mnist.target.astype(np.uint8)\n",
    "\n",
    "from sklearn.model_selection import train_test_split\n",
    "\n",
    "X_train_val, X_test, y_train_val, y_test = train_test_split(\n",
    "    mnist.data, mnist.target, test_size=10000, random_state=42)\n",
    "X_train, X_val, y_train, y_val = train_test_split(\n",
    "    X_train_val, y_train_val, test_size=10000, random_state=42)"
   ]
  },
  {
   "cell_type": "code",
   "execution_count": 6,
   "id": "dc3f719d",
   "metadata": {},
   "outputs": [
    {
     "name": "stdout",
     "output_type": "stream",
     "text": [
      "Training the RandomForestClassifier(random_state=42)\n",
      "Training the ExtraTreesClassifier(random_state=42)\n",
      "Training the LinearSVC(random_state=42)\n"
     ]
    },
    {
     "name": "stderr",
     "output_type": "stream",
     "text": [
      "C:\\ProgramData\\Anaconda3\\lib\\site-packages\\sklearn\\svm\\_base.py:1206: ConvergenceWarning: Liblinear failed to converge, increase the number of iterations.\n",
      "  warnings.warn(\n"
     ]
    },
    {
     "name": "stdout",
     "output_type": "stream",
     "text": [
      "Training the MLPClassifier(random_state=42)\n"
     ]
    }
   ],
   "source": [
    "from sklearn.ensemble import RandomForestClassifier, ExtraTreesClassifier\n",
    "from sklearn.svm import LinearSVC\n",
    "from sklearn.neural_network import MLPClassifier\n",
    "\n",
    "random_forest_clf = RandomForestClassifier(n_estimators=100, random_state=42)#randomforest\n",
    "extra_trees_clf = ExtraTreesClassifier(n_estimators=100, random_state=42)#extratree\n",
    "svm_clf = LinearSVC(random_state=42)#SVM\n",
    "mlp_clf = MLPClassifier(random_state=42)#MLP\n",
    "#2017250045 정태환\n",
    "estimators = [random_forest_clf, extra_trees_clf, svm_clf, mlp_clf]\n",
    "for estimator in estimators:\n",
    "    print(\"Training the\", estimator)\n",
    "    estimator.fit(X_train, y_train)"
   ]
  },
  {
   "cell_type": "code",
   "execution_count": 7,
   "id": "19d32430",
   "metadata": {},
   "outputs": [
    {
     "name": "stdout",
     "output_type": "stream",
     "text": [
      "[estimator.score(X_val, y_val) for estimator in estimators]: [0.9692, 0.9715, 0.8695, 0.9606]\n"
     ]
    }
   ],
   "source": [
    "#2017250045 정태환\n",
    "print(\"[estimator.score(X_val, y_val) for estimator in estimators]:\",\n",
    "      [estimator.score(X_val, y_val) for estimator in estimators])"
   ]
  },
  {
   "cell_type": "code",
   "execution_count": 8,
   "id": "ed02f803",
   "metadata": {},
   "outputs": [
    {
     "name": "stderr",
     "output_type": "stream",
     "text": [
      "C:\\ProgramData\\Anaconda3\\lib\\site-packages\\sklearn\\svm\\_base.py:1206: ConvergenceWarning: Liblinear failed to converge, increase the number of iterations.\n",
      "  warnings.warn(\n"
     ]
    },
    {
     "name": "stdout",
     "output_type": "stream",
     "text": [
      "voting_clf.score(X_val, y_val): 0.97\n",
      "[estimator.score(X_val, y_val) for estimator in voting_clf.estimators_]:  [0.9692, 0.9715, 0.8695, 0.9606]\n"
     ]
    }
   ],
   "source": [
    "from sklearn.ensemble import VotingClassifier\n",
    "named_estimators = [\n",
    "    (\"random_forest_clf\", random_forest_clf),\n",
    "    (\"extra_trees_clf\", extra_trees_clf),\n",
    "    (\"svm_clf\", svm_clf),\n",
    "    (\"mlp_clf\", mlp_clf),\n",
    "]\n",
    "voting_clf = VotingClassifier(named_estimators)\n",
    "#2017250045 정태환\n",
    "voting_clf.fit(X_train, y_train)\n",
    "\n",
    "print(\"voting_clf.score(X_val, y_val):\",voting_clf.score(X_val, y_val))\n",
    "print(\"[estimator.score(X_val, y_val) for estimator in voting_clf.estimators_]: \",\n",
    "      [estimator.score(X_val, y_val) for estimator in voting_clf.estimators_])"
   ]
  },
  {
   "cell_type": "code",
   "execution_count": 10,
   "id": "c1da271f",
   "metadata": {},
   "outputs": [
    {
     "name": "stdout",
     "output_type": "stream",
     "text": [
      "voting_clf.set_params(svm_clf=None): VotingClassifier(estimators=[('random_forest_clf',\n",
      "                              RandomForestClassifier(random_state=42)),\n",
      "                             ('extra_trees_clf',\n",
      "                              ExtraTreesClassifier(random_state=42)),\n",
      "                             ('svm_clf', None),\n",
      "                             ('mlp_clf', MLPClassifier(random_state=42))])\n",
      "\n",
      "voting_clf.estimators:  [('random_forest_clf', RandomForestClassifier(random_state=42)), ('extra_trees_clf', ExtraTreesClassifier(random_state=42)), ('svm_clf', None), ('mlp_clf', MLPClassifier(random_state=42))]\n",
      "\n",
      "voting_clf.estimators_: [RandomForestClassifier(random_state=42), ExtraTreesClassifier(random_state=42), LinearSVC(random_state=42), MLPClassifier(random_state=42)]\n"
     ]
    }
   ],
   "source": [
    "print(\"voting_clf.set_params(svm_clf=None):\",voting_clf.set_params(svm_clf=None))\n",
    "print(\"\\nvoting_clf.estimators: \",voting_clf.estimators)\n",
    "print(\"\\nvoting_clf.estimators_:\",voting_clf.estimators_)\n",
    "#2017250045 정태환"
   ]
  },
  {
   "cell_type": "code",
   "execution_count": 11,
   "id": "7f778d57",
   "metadata": {},
   "outputs": [
    {
     "name": "stdout",
     "output_type": "stream",
     "text": [
      "voting_clf.score(X_val, y_val):  0.9737\n"
     ]
    }
   ],
   "source": [
    "#2017250045 정태환\n",
    "del voting_clf.estimators_[2]\n",
    "print(\"voting_clf.score(X_val, y_val): \",voting_clf.score(X_val, y_val))"
   ]
  },
  {
   "cell_type": "code",
   "execution_count": 12,
   "id": "40fa99f8",
   "metadata": {},
   "outputs": [
    {
     "name": "stdout",
     "output_type": "stream",
     "text": [
      "voting_clf.score(X_val, y_val): 0.97\n"
     ]
    }
   ],
   "source": [
    "voting_clf.voting = \"soft\"#SOFTVOTING으로 변환\n",
    "print(\"voting_clf.score(X_val, y_val):\",voting_clf.score(X_val, y_val))\n"
   ]
  },
  {
   "cell_type": "code",
   "execution_count": 13,
   "id": "6f3c9afa",
   "metadata": {},
   "outputs": [
    {
     "name": "stdout",
     "output_type": "stream",
     "text": [
      "\n",
      "voting_clf.score(X_test, y_test): 0.9711\n"
     ]
    }
   ],
   "source": [
    "voting_clf.voting = \"hard\"#HARDVOTING으로 변환\n",
    "print(\"\\nvoting_clf.score(X_test, y_test):\",voting_clf.score(X_test, y_test))"
   ]
  },
  {
   "cell_type": "code",
   "execution_count": 15,
   "id": "902d6bbf",
   "metadata": {},
   "outputs": [
    {
     "name": "stdout",
     "output_type": "stream",
     "text": [
      "[estimator.score(X_test, y_test) for estimator in voting_clf.estimators_]: [0.9645, 0.9691, 0.9586]\n",
      "\n",
      "The voting classifier only very slightly reduced the error rate of the best model in this case.\n"
     ]
    }
   ],
   "source": [
    "print(\"[estimator.score(X_test, y_test) for estimator in voting_clf.estimators_]:\",\n",
    "[estimator.score(X_test, y_test) for estimator in voting_clf.estimators_])\n",
    "print(\"\\nThe voting classifier only very slightly reduced the error rate of the best model in this case.\")"
   ]
  },
  {
   "cell_type": "code",
   "execution_count": null,
   "id": "56d0c599",
   "metadata": {},
   "outputs": [],
   "source": []
  }
 ],
 "metadata": {
  "kernelspec": {
   "display_name": "Python 3 (ipykernel)",
   "language": "python",
   "name": "python3"
  },
  "language_info": {
   "codemirror_mode": {
    "name": "ipython",
    "version": 3
   },
   "file_extension": ".py",
   "mimetype": "text/x-python",
   "name": "python",
   "nbconvert_exporter": "python",
   "pygments_lexer": "ipython3",
   "version": "3.9.7"
  }
 },
 "nbformat": 4,
 "nbformat_minor": 5
}
