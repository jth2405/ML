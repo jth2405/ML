{
 "cells": [
  {
   "cell_type": "code",
   "execution_count": 1,
   "id": "e450b277",
   "metadata": {},
   "outputs": [],
   "source": [
    "# Python ≥3.5 \n",
    "import sys\n",
    "assert sys.version_info >= (3, 5)\n",
    "\n",
    "# Scikit-Learn ≥0.20 \n",
    "import sklearn\n",
    "assert sklearn.__version__ >= \"0.20\"\n",
    "\n",
    "import numpy as np\n",
    "import pandas as pd\n",
    "import os\n",
    "\n",
    "np.random.seed(42)\n",
    "\n",
    "%matplotlib inline\n",
    "import matplotlib as mpl\n",
    "import matplotlib.pyplot as plt\n",
    "mpl.rc('axes', labelsize=14)\n",
    "mpl.rc('xtick', labelsize=12)\n",
    "mpl.rc('ytick', labelsize=12)\n",
    "\n",
    "\n",
    "PROJECT_ROOT_DIR = \".\"\n",
    "CHAPTER_ID = \"classification\"\n",
    "IMAGES_PATH = os.path.join(PROJECT_ROOT_DIR, \"images\", CHAPTER_ID)\n",
    "os.makedirs(IMAGES_PATH, exist_ok=True)\n",
    "\n",
    "\n",
    "def save_fig(fig_id, tight_layout=True, fig_extension=\"png\", resolution=300):\n",
    "    path = os.path.join(IMAGES_PATH, fig_id + \".\" + fig_extension)\n",
    "    print(\"Saving figure\", fig_id)\n",
    "    if tight_layout:\n",
    "        plt.tight_layout()\n",
    "    plt.savefig(path, format=fig_extension, dpi=resolution)"
   ]
  },
  {
   "cell_type": "code",
   "execution_count": 2,
   "id": "6a4fb85d",
   "metadata": {},
   "outputs": [
    {
     "name": "stdout",
     "output_type": "stream",
     "text": [
      "\n",
      "mnist.keys(): \n",
      " dict_keys(['data', 'target', 'frame', 'categories', 'feature_names', 'target_names', 'DESCR', 'details', 'url'])\n"
     ]
    }
   ],
   "source": [
    "from sklearn.datasets import fetch_openml \n",
    "mnist = fetch_openml('mnist_784', version=1, as_frame=False) \n",
    "print(\"\\nmnist.keys(): \\n\",\n",
    "      mnist.keys())"
   ]
  },
  {
   "cell_type": "code",
   "execution_count": 3,
   "id": "8da89584",
   "metadata": {},
   "outputs": [
    {
     "name": "stdout",
     "output_type": "stream",
     "text": [
      "\n",
      "X.shape: \n",
      " (70000, 784)\n",
      "\n",
      "y.shape: \n",
      " (70000,)\n"
     ]
    }
   ],
   "source": [
    "X, y = mnist[\"data\"], mnist[\"target\"]\n",
    "y=y.astype(np.uint8)\n",
    "print(\"\\nX.shape: \\n\", X.shape) \n",
    "print(\"\\ny.shape: \\n\", y.shape)"
   ]
  },
  {
   "cell_type": "code",
   "execution_count": 4,
   "id": "fc185548",
   "metadata": {},
   "outputs": [],
   "source": [
    "import matplotlib as mpl\n",
    "import matplotlib.pyplot as plt\n",
    "from sklearn.neighbors import KNeighborsClassifier \n",
    "X_train, X_test, y_train, y_test = X[:60000], X[60000:], y[:60000], y[60000:]"
   ]
  },
  {
   "cell_type": "code",
   "execution_count": 5,
   "id": "f916d937",
   "metadata": {},
   "outputs": [
    {
     "name": "stdout",
     "output_type": "stream",
     "text": [
      "\n",
      "\n",
      "Exercise #01 An MNIST Classifier With Over 97% Accuracy\n",
      "Fitting 5 folds for each of 6 candidates, totalling 30 fits\n",
      "[CV 1/5] END ....n_neighbors=3, weights=uniform;, score=0.972 total time=  16.2s\n",
      "[CV 2/5] END ....n_neighbors=3, weights=uniform;, score=0.971 total time=  14.5s\n",
      "[CV 3/5] END ....n_neighbors=3, weights=uniform;, score=0.969 total time=  15.3s\n",
      "[CV 4/5] END ....n_neighbors=3, weights=uniform;, score=0.969 total time=  14.6s\n",
      "[CV 5/5] END ....n_neighbors=3, weights=uniform;, score=0.970 total time=  14.9s\n",
      "[CV 1/5] END ...n_neighbors=3, weights=distance;, score=0.972 total time=  14.1s\n",
      "[CV 2/5] END ...n_neighbors=3, weights=distance;, score=0.972 total time=  14.8s\n",
      "[CV 3/5] END ...n_neighbors=3, weights=distance;, score=0.970 total time=  15.5s\n",
      "[CV 4/5] END ...n_neighbors=3, weights=distance;, score=0.970 total time=  14.2s\n",
      "[CV 5/5] END ...n_neighbors=3, weights=distance;, score=0.971 total time=  14.3s\n",
      "[CV 1/5] END ....n_neighbors=4, weights=uniform;, score=0.969 total time=  16.6s\n",
      "[CV 2/5] END ....n_neighbors=4, weights=uniform;, score=0.968 total time=  17.0s\n",
      "[CV 3/5] END ....n_neighbors=4, weights=uniform;, score=0.968 total time=  19.9s\n",
      "[CV 4/5] END ....n_neighbors=4, weights=uniform;, score=0.967 total time=  18.2s\n",
      "[CV 5/5] END ....n_neighbors=4, weights=uniform;, score=0.970 total time=  17.7s\n",
      "[CV 1/5] END ...n_neighbors=4, weights=distance;, score=0.973 total time=  16.3s\n",
      "[CV 2/5] END ...n_neighbors=4, weights=distance;, score=0.972 total time=  16.6s\n",
      "[CV 3/5] END ...n_neighbors=4, weights=distance;, score=0.970 total time=  17.8s\n",
      "[CV 4/5] END ...n_neighbors=4, weights=distance;, score=0.971 total time=  18.1s\n",
      "[CV 5/5] END ...n_neighbors=4, weights=distance;, score=0.972 total time=  17.1s\n",
      "[CV 1/5] END ....n_neighbors=5, weights=uniform;, score=0.970 total time=  17.0s\n",
      "[CV 2/5] END ....n_neighbors=5, weights=uniform;, score=0.970 total time=  16.8s\n",
      "[CV 3/5] END ....n_neighbors=5, weights=uniform;, score=0.969 total time=  16.3s\n",
      "[CV 4/5] END ....n_neighbors=5, weights=uniform;, score=0.968 total time=  16.6s\n",
      "[CV 5/5] END ....n_neighbors=5, weights=uniform;, score=0.969 total time=  20.2s\n",
      "[CV 1/5] END ...n_neighbors=5, weights=distance;, score=0.970 total time=  17.2s\n",
      "[CV 2/5] END ...n_neighbors=5, weights=distance;, score=0.971 total time=  16.5s\n",
      "[CV 3/5] END ...n_neighbors=5, weights=distance;, score=0.970 total time=  16.4s\n",
      "[CV 4/5] END ...n_neighbors=5, weights=distance;, score=0.969 total time=  17.3s\n",
      "[CV 5/5] END ...n_neighbors=5, weights=distance;, score=0.971 total time=  19.4s\n",
      "\n",
      "\n",
      "grid_search.best_params_: \n",
      " {'n_neighbors': 4, 'weights': 'distance'}\n",
      "\n",
      "grid_search.best_score_: \n",
      " 0.9716166666666666\n"
     ]
    }
   ],
   "source": [
    "print(\"\\n\\nExercise #01 An MNIST Classifier With Over 97% Accuracy\")\n",
    "\n",
    "from sklearn.model_selection import GridSearchCV\n",
    "\n",
    "param_grid = [{'weights': [\"uniform\", \"distance\"], 'n_neighbors': [3, 4, 5]}]\n",
    "\n",
    "knn_clf = KNeighborsClassifier()\n",
    "grid_search = GridSearchCV(knn_clf, param_grid, cv=5, verbose=3) \n",
    "grid_search.fit(X_train, y_train)\n",
    "\n",
    "print(\"\\n\\ngrid_search.best_params_: \\n\", grid_search.best_params_) \n",
    "print(\"\\ngrid_search.best_score_: \\n\", grid_search.best_score_)\n",
    "#2017250045 정태환"
   ]
  },
  {
   "cell_type": "code",
   "execution_count": 6,
   "id": "f86975a1",
   "metadata": {},
   "outputs": [
    {
     "name": "stdout",
     "output_type": "stream",
     "text": [
      "\n",
      "accuracy_score(y_test, y_pred): \n",
      " 0.9714\n"
     ]
    }
   ],
   "source": [
    "from sklearn.metrics import accuracy_score \n",
    "y_pred = grid_search.predict(X_test) \n",
    "print(\"\\naccuracy_score(y_test, y_pred): \\n\", accuracy_score(y_test, y_pred))"
   ]
  },
  {
   "cell_type": "code",
   "execution_count": null,
   "id": "b404483b",
   "metadata": {},
   "outputs": [],
   "source": []
  }
 ],
 "metadata": {
  "kernelspec": {
   "display_name": "Python 3 (ipykernel)",
   "language": "python",
   "name": "python3"
  },
  "language_info": {
   "codemirror_mode": {
    "name": "ipython",
    "version": 3
   },
   "file_extension": ".py",
   "mimetype": "text/x-python",
   "name": "python",
   "nbconvert_exporter": "python",
   "pygments_lexer": "ipython3",
   "version": "3.9.7"
  }
 },
 "nbformat": 4,
 "nbformat_minor": 5
}
