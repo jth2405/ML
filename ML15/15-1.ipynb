{
 "cells": [
  {
   "cell_type": "code",
   "execution_count": 31,
   "id": "db3518c6",
   "metadata": {},
   "outputs": [],
   "source": [
    "# Python ≥3.5 is required\n",
    "import sys\n",
    "assert sys.version_info >= (3, 5)\n",
    "\n",
    "# Scikit-Learn ≥0.20 is required\n",
    "import sklearn\n",
    "assert sklearn.__version__ >= \"0.20\"\n",
    "\n",
    "# TensorFlow ≥2.0 is required\n",
    "import tensorflow as tf\n",
    "from tensorflow import keras\n",
    "assert tf.__version__ >= \"2.0\"\n",
    "\n",
    "import numpy as np\n",
    "import os\n",
    "\n",
    "np.random.seed(42)\n",
    "tf.random.set_seed(42)\n",
    "\n",
    "%matplotlib inline\n",
    "import matplotlib as mpl\n",
    "import matplotlib.pyplot as plt\n",
    "mpl.rc('axes', labelsize=14)\n",
    "mpl.rc('xtick', labelsize=12)\n",
    "mpl.rc('ytick', labelsize=12)\n",
    "\n",
    "# Where to save the figures\n",
    "PROJECT_ROOT_DIR = \".\"\n",
    "CHAPTER_ID = \"deploy\"\n",
    "IMAGES_PATH = os.path.join(PROJECT_ROOT_DIR, \"images\", CHAPTER_ID)\n",
    "os.makedirs(IMAGES_PATH, exist_ok=True)\n",
    "\n",
    "def save_fig(fig_id, tight_layout=True, fig_extension=\"png\", resolution=300):\n",
    "    path = os.path.join(IMAGES_PATH, fig_id + \".\" + fig_extension)\n",
    "    print(\"Saving figure\", fig_id)\n",
    "    if tight_layout:\n",
    "        plt.tight_layout()\n",
    "    plt.savefig(path, format=fig_extension, dpi=resolution)"
   ]
  },
  {
   "cell_type": "code",
   "execution_count": 32,
   "id": "d2d64759",
   "metadata": {},
   "outputs": [],
   "source": [
    "(X_train_full, y_train_full), (X_test, y_test) = keras.datasets.mnist.load_data()\n",
    "X_train_full = X_train_full[..., np.newaxis].astype(np.float32) / 255.\n",
    "X_test = X_test[..., np.newaxis].astype(np.float32) / 255.\n",
    "X_valid, X_train = X_train_full[:5000], X_train_full[5000:]\n",
    "y_valid, y_train = y_train_full[:5000], y_train_full[5000:]\n",
    "\n",
    "import googleapiclient.discovery\n",
    "#2017250045 정태환\n",
    "os.environ[\"GOOGLE_APPLICATION_CREDENTIALS\"] = \"double-balm-289912-929a9a390dff.json\"\n",
    "\n",
    "project_id=\"double-balm-289912\"\n",
    "model_id = \"my_mnist_model\"\n",
    "model_path = \"projects/{}/models/{}\".format(project_id, model_id)\n",
    "ml_resource = googleapiclient.discovery.build(\"ml\", \"v1\").projects()\n"
   ]
  },
  {
   "cell_type": "code",
   "execution_count": 38,
   "id": "c1123e9e",
   "metadata": {},
   "outputs": [
    {
     "name": "stdout",
     "output_type": "stream",
     "text": [
      "\n",
      "predict(X_test[:10]): [[1.14266695e-04 1.51848894e-07 9.78322350e-04 2.77053635e-03\n",
      "  3.75338755e-06 7.67125384e-05 3.91618222e-08 9.95572805e-01\n",
      "  5.34381252e-05 4.29933396e-04]\n",
      " [8.13938328e-04 3.53349169e-05 9.88318563e-01 7.00815767e-03\n",
      "  1.27453163e-07 2.32063452e-04 2.56750453e-03 9.68847114e-10\n",
      "  1.02423911e-03 8.75037642e-08]\n",
      " [4.43073295e-05 9.70304430e-01 9.04920883e-03 2.26388546e-03\n",
      "  4.86470060e-04 2.87215714e-03 2.27167783e-03 8.36741924e-03\n",
      "  4.04331507e-03 2.97109393e-04]\n",
      " [9.99276578e-01 1.37288518e-08 1.24055747e-04 1.22131341e-05\n",
      "  2.03612316e-07 5.33860002e-05 4.80883376e-04 1.42408226e-05\n",
      "  1.52733937e-05 2.31991453e-05]\n",
      " [4.62775759e-04 4.79039591e-06 2.46720063e-03 1.54007081e-04\n",
      "  9.61716294e-01 2.70371529e-04 1.67213683e-03 1.68396556e-03\n",
      "  5.38360968e-04 3.10300011e-02]\n",
      " [4.83169924e-06 9.92127299e-01 9.45044565e-04 7.30966043e-04\n",
      "  4.30491891e-05 1.69096777e-04 4.95482745e-05 4.37504333e-03\n",
      "  1.43692654e-03 1.18245647e-04]\n",
      " [2.66675470e-05 1.81869802e-06 2.70563396e-05 2.61358073e-04\n",
      "  9.62615848e-01 1.43011240e-03 6.10709831e-05 1.28761923e-03\n",
      "  2.78905611e-02 6.39795419e-03]\n",
      " [6.31918192e-06 5.37236279e-04 7.12576183e-03 1.09952921e-02\n",
      "  1.10870367e-02 6.66982820e-03 2.07153658e-04 4.42539947e-03\n",
      "  5.18761110e-03 9.53758359e-01]\n",
      " [8.11208505e-04 1.10294259e-05 6.97069895e-03 1.12247590e-05\n",
      "  1.82792023e-02 1.97417084e-02 9.53469753e-01 3.26859009e-07\n",
      "  5.30815625e-04 1.73986409e-04]\n",
      " [2.72405705e-05 5.30388533e-08 2.24748528e-05 6.03559602e-05\n",
      "  3.32806371e-02 2.60640263e-05 1.93258438e-06 2.21010037e-02\n",
      "  1.78060285e-03 9.42699611e-01]]\n"
     ]
    }
   ],
   "source": [
    "def predict(X):\n",
    "    input_data_json = {\"signature_name\": \"serving_default\",\n",
    "                       \"instances\": X.tolist()}\n",
    "    request = ml_resource.predict(name=model_path, body=input_data_json)\n",
    "    response = request.execute()\n",
    "    if \"error\" in response:\n",
    "        raise RuntimeError(response[\"error\"])\n",
    "    return np.array([pred['dense_5'] for pred in response[\"predictions\"]])\n",
    "#2017250045 정태환\n",
    "X_new = X_test[:10]\n",
    "print(\"\\npredict(X_test[:10]):\", predict(X_new))"
   ]
  },
  {
   "cell_type": "code",
   "execution_count": null,
   "id": "810e5cc7",
   "metadata": {},
   "outputs": [],
   "source": []
  }
 ],
 "metadata": {
  "kernelspec": {
   "display_name": "Python 3 (ipykernel)",
   "language": "python",
   "name": "python3"
  },
  "language_info": {
   "codemirror_mode": {
    "name": "ipython",
    "version": 3
   },
   "file_extension": ".py",
   "mimetype": "text/x-python",
   "name": "python",
   "nbconvert_exporter": "python",
   "pygments_lexer": "ipython3",
   "version": "3.9.12"
  }
 },
 "nbformat": 4,
 "nbformat_minor": 5
}
