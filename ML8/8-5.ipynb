{
 "cells": [
  {
   "cell_type": "code",
   "execution_count": 1,
   "id": "2322708e",
   "metadata": {},
   "outputs": [],
   "source": [
    "from __future__ import division, print_function, unicode_literals\n",
    "\n",
    "# Common imports\n",
    "import numpy as np\n",
    "import os\n",
    "\n",
    "# to make this notebook's output stable across runs\n",
    "np.random.seed(42)\n",
    "\n",
    "# To plot pretty figures\n",
    "%matplotlib inline\n",
    "import matplotlib as mpl\n",
    "import matplotlib.pyplot as plt\n",
    "plt.rcParams['axes.labelsize'] = 14\n",
    "plt.rcParams['xtick.labelsize'] = 12 \n",
    "plt.rcParams['ytick.labelsize'] = 12\n",
    "\n",
    "# Where to save the figures\n",
    "PROJECT_ROOT_DIR = \".\"\n",
    "CHAPTER_ID = \"training_linear_models\"\n",
    "IMAGES_PATH = os.path.join(PROJECT_ROOT_DIR, \"images\", CHAPTER_ID)\n",
    "os.makedirs(IMAGES_PATH, exist_ok=True)\n",
    "\n",
    "def save_fig(fig_id, tight_layout=True, fig_extension=\"png\", resolution=300):\n",
    "    path = os.path.join(IMAGES_PATH, fig_id + \".\" + fig_extension)\n",
    "    print(\"Saving figure\", fig_id)\n",
    "    if tight_layout:\n",
    "        plt.tight_layout()\n",
    "    plt.savefig(path, format=fig_extension, dpi=resolution)"
   ]
  },
  {
   "cell_type": "code",
   "execution_count": 3,
   "id": "c0a587a9",
   "metadata": {},
   "outputs": [
    {
     "name": "stderr",
     "output_type": "stream",
     "text": [
      "C:\\ProgramData\\Anaconda3\\lib\\site-packages\\sklearn\\svm\\_base.py:1206: ConvergenceWarning: Liblinear failed to converge, increase the number of iterations.\n",
      "  warnings.warn(\n"
     ]
    },
    {
     "data": {
      "text/plain": [
       "LinearSVR(random_state=42)"
      ]
     },
     "execution_count": 3,
     "metadata": {},
     "output_type": "execute_result"
    }
   ],
   "source": [
    "from sklearn.datasets import fetch_california_housing\n",
    "\n",
    "housing = fetch_california_housing()\n",
    "X = housing[\"data\"]\n",
    "y = housing[\"target\"]\n",
    "\n",
    "from sklearn.model_selection import train_test_split\n",
    "\n",
    "X_train, X_test, y_train, y_test = train_test_split(X, y, test_size=0.2, random_state=42)\n",
    "\n",
    "from sklearn.preprocessing import StandardScaler\n",
    "\n",
    "scaler = StandardScaler()\n",
    "X_train_scaled = scaler.fit_transform(X_train)\n",
    "X_test_scaled = scaler.transform(X_test)\n",
    "\n",
    "from sklearn.svm import LinearSVR\n",
    "\n",
    "lin_svr = LinearSVR(random_state=42)\n",
    "lin_svr.fit(X_train_scaled, y_train)\n",
    "#2017250045 정태환"
   ]
  },
  {
   "cell_type": "code",
   "execution_count": 4,
   "id": "35d17957",
   "metadata": {},
   "outputs": [
    {
     "data": {
      "text/plain": [
       "0.9641780189948642"
      ]
     },
     "execution_count": 4,
     "metadata": {},
     "output_type": "execute_result"
    }
   ],
   "source": [
    "from sklearn.metrics import mean_squared_error\n",
    "\n",
    "y_pred = lin_svr.predict(X_train_scaled)\n",
    "mse = mean_squared_error(y_train, y_pred)\n",
    "mse\n",
    "#2017250045 정태환"
   ]
  },
  {
   "cell_type": "code",
   "execution_count": 5,
   "id": "ae2ed5ca",
   "metadata": {},
   "outputs": [
    {
     "data": {
      "text/plain": [
       "0.9819256687727764"
      ]
     },
     "execution_count": 5,
     "metadata": {},
     "output_type": "execute_result"
    }
   ],
   "source": [
    "np.sqrt(mse)\n",
    "#2017250045 정태환"
   ]
  },
  {
   "cell_type": "code",
   "execution_count": 6,
   "id": "7658d399",
   "metadata": {},
   "outputs": [
    {
     "name": "stdout",
     "output_type": "stream",
     "text": [
      "Fitting 3 folds for each of 10 candidates, totalling 30 fits\n",
      "[CV] END .....C=4.745401188473625, gamma=0.07969454818643928; total time=  12.8s\n",
      "[CV] END .....C=4.745401188473625, gamma=0.07969454818643928; total time=  12.4s\n",
      "[CV] END .....C=4.745401188473625, gamma=0.07969454818643928; total time=  13.6s\n",
      "[CV] END .....C=8.31993941811405, gamma=0.015751320499779724; total time=  14.0s\n",
      "[CV] END .....C=8.31993941811405, gamma=0.015751320499779724; total time=  12.8s\n",
      "[CV] END .....C=8.31993941811405, gamma=0.015751320499779724; total time=  13.0s\n",
      "[CV] END ....C=2.560186404424365, gamma=0.002051110418843397; total time=  13.0s\n",
      "[CV] END ....C=2.560186404424365, gamma=0.002051110418843397; total time=  12.3s\n",
      "[CV] END ....C=2.560186404424365, gamma=0.002051110418843397; total time=  12.5s\n",
      "[CV] END ....C=1.5808361216819946, gamma=0.05399484409787431; total time=  12.9s\n",
      "[CV] END ....C=1.5808361216819946, gamma=0.05399484409787431; total time=  12.2s\n",
      "[CV] END ....C=1.5808361216819946, gamma=0.05399484409787431; total time=  11.9s\n",
      "[CV] END ....C=7.011150117432088, gamma=0.026070247583707663; total time=  12.1s\n",
      "[CV] END ....C=7.011150117432088, gamma=0.026070247583707663; total time=  13.7s\n",
      "[CV] END ....C=7.011150117432088, gamma=0.026070247583707663; total time=  13.3s\n",
      "[CV] END .....C=1.2058449429580245, gamma=0.0870602087830485; total time=  12.2s\n",
      "[CV] END .....C=1.2058449429580245, gamma=0.0870602087830485; total time=  12.9s\n",
      "[CV] END .....C=1.2058449429580245, gamma=0.0870602087830485; total time=  13.3s\n",
      "[CV] END ...C=9.324426408004218, gamma=0.0026587543983272693; total time=  12.8s\n",
      "[CV] END ...C=9.324426408004218, gamma=0.0026587543983272693; total time=  12.8s\n",
      "[CV] END ...C=9.324426408004218, gamma=0.0026587543983272693; total time=  12.5s\n",
      "[CV] END ...C=2.818249672071006, gamma=0.0023270677083837795; total time=  12.6s\n",
      "[CV] END ...C=2.818249672071006, gamma=0.0023270677083837795; total time=  12.6s\n",
      "[CV] END ...C=2.818249672071006, gamma=0.0023270677083837795; total time=  15.2s\n",
      "[CV] END ....C=4.042422429595377, gamma=0.011207606211860567; total time=  14.2s\n",
      "[CV] END ....C=4.042422429595377, gamma=0.011207606211860567; total time=  13.3s\n",
      "[CV] END ....C=4.042422429595377, gamma=0.011207606211860567; total time=  13.2s\n",
      "[CV] END ....C=5.319450186421157, gamma=0.003823475224675185; total time=  12.8s\n",
      "[CV] END ....C=5.319450186421157, gamma=0.003823475224675185; total time=  13.0s\n",
      "[CV] END ....C=5.319450186421157, gamma=0.003823475224675185; total time=  13.1s\n"
     ]
    },
    {
     "data": {
      "text/plain": [
       "RandomizedSearchCV(cv=3, estimator=SVR(),\n",
       "                   param_distributions={'C': <scipy.stats._distn_infrastructure.rv_frozen object at 0x0000021D6B181FD0>,\n",
       "                                        'gamma': <scipy.stats._distn_infrastructure.rv_frozen object at 0x0000021D6B298820>},\n",
       "                   random_state=42, verbose=2)"
      ]
     },
     "execution_count": 6,
     "metadata": {},
     "output_type": "execute_result"
    }
   ],
   "source": [
    "from sklearn.svm import SVR\n",
    "from sklearn.model_selection import RandomizedSearchCV\n",
    "from scipy.stats import reciprocal, uniform\n",
    "\n",
    "param_distributions = {\"gamma\": reciprocal(0.001, 0.1), \"C\": uniform(1, 10)}\n",
    "rnd_search_cv = RandomizedSearchCV(SVR(), param_distributions, n_iter=10, verbose=2, cv=3, random_state=42)\n",
    "rnd_search_cv.fit(X_train_scaled, y_train)\n",
    "#2017250045 정태환"
   ]
  },
  {
   "cell_type": "code",
   "execution_count": 7,
   "id": "c2bfae44",
   "metadata": {},
   "outputs": [
    {
     "data": {
      "text/plain": [
       "SVR(C=4.745401188473625, gamma=0.07969454818643928)"
      ]
     },
     "execution_count": 7,
     "metadata": {},
     "output_type": "execute_result"
    }
   ],
   "source": [
    "rnd_search_cv.best_estimator_\n",
    "#2017250045 정태환"
   ]
  },
  {
   "cell_type": "code",
   "execution_count": 8,
   "id": "d986af4c",
   "metadata": {},
   "outputs": [
    {
     "data": {
      "text/plain": [
       "0.5727524770785369"
      ]
     },
     "execution_count": 8,
     "metadata": {},
     "output_type": "execute_result"
    }
   ],
   "source": [
    "y_pred = rnd_search_cv.best_estimator_.predict(X_train_scaled)\n",
    "mse = mean_squared_error(y_train, y_pred)\n",
    "np.sqrt(mse)\n",
    "#2017250045 정태환"
   ]
  },
  {
   "cell_type": "code",
   "execution_count": 9,
   "id": "c101a16d",
   "metadata": {},
   "outputs": [
    {
     "data": {
      "text/plain": [
       "0.5929168385528745"
      ]
     },
     "execution_count": 9,
     "metadata": {},
     "output_type": "execute_result"
    }
   ],
   "source": [
    "y_pred = rnd_search_cv.best_estimator_.predict(X_test_scaled)\n",
    "mse = mean_squared_error(y_test, y_pred)\n",
    "np.sqrt(mse)\n",
    "#2017250045 정태환"
   ]
  },
  {
   "cell_type": "code",
   "execution_count": null,
   "id": "0e9a0109",
   "metadata": {},
   "outputs": [],
   "source": []
  }
 ],
 "metadata": {
  "kernelspec": {
   "display_name": "Python 3 (ipykernel)",
   "language": "python",
   "name": "python3"
  },
  "language_info": {
   "codemirror_mode": {
    "name": "ipython",
    "version": 3
   },
   "file_extension": ".py",
   "mimetype": "text/x-python",
   "name": "python",
   "nbconvert_exporter": "python",
   "pygments_lexer": "ipython3",
   "version": "3.9.7"
  }
 },
 "nbformat": 4,
 "nbformat_minor": 5
}
